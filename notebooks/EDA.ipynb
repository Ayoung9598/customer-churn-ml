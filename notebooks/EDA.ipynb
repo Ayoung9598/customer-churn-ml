{
 "cells": [
  {
   "cell_type": "markdown",
   "id": "a86cf461",
   "metadata": {},
   "source": [
    "# EDA - Customer Churn\n",
    "\n",
    "This notebook provides a quick-start template for exploring the churn dataset.\n",
    "\n",
    "## Steps\n",
    "- Load the dataset from `../data/your_file.csv`\n",
    "- Inspect schema and missingness\n",
    "- Visualize distributions and target balance\n",
    "- Explore correlations and feature importance\n",
    "\n",
    "\n"
   ]
  },
  {
   "cell_type": "code",
   "execution_count": null,
   "id": "98ea6d02",
   "metadata": {},
   "outputs": [],
   "source": [
    "import pandas as pd\n",
    "import seaborn as sns\n",
    "import matplotlib.pyplot as plt\n",
    "\n",
    "pd.set_option('display.max_columns', None)\n",
    "\n",
    "# Update this path\n",
    "DATA_PATH = '../data/your_file.csv'\n",
    "TARGET = 'churn'\n",
    "\n",
    "try:\n",
    "    df = pd.read_csv(DATA_PATH)\n",
    "    print(df.shape)\n",
    "    display(df.head())\n",
    "except FileNotFoundError:\n",
    "    print(f\"CSV not found at {DATA_PATH}. Place your dataset and rerun.\")\n",
    "\n"
   ]
  },
  {
   "cell_type": "code",
   "execution_count": null,
   "id": "44da2174",
   "metadata": {},
   "outputs": [],
   "source": [
    "# Basic info\n",
    "try:\n",
    "    display(df.info())\n",
    "    display(df.describe(include='all').T)\n",
    "except NameError:\n",
    "    pass\n",
    "\n"
   ]
  },
  {
   "cell_type": "code",
   "execution_count": null,
   "id": "6af0ed10",
   "metadata": {},
   "outputs": [],
   "source": [
    "# Missingness heatmap\n",
    "try:\n",
    "    plt.figure(figsize=(10, 5))\n",
    "    sns.heatmap(df.isna(), cbar=False)\n",
    "    plt.title('Missingness')\n",
    "    plt.show()\n",
    "except NameError:\n",
    "    pass\n",
    "\n"
   ]
  },
  {
   "cell_type": "code",
   "execution_count": null,
   "id": "90607c53",
   "metadata": {},
   "outputs": [],
   "source": [
    "# Target balance\n",
    "try:\n",
    "    if TARGET in df.columns:\n",
    "        ax = df[TARGET].value_counts(normalize=True).mul(100).plot(kind='bar')\n",
    "        plt.title('Target Balance (%)')\n",
    "        for p in ax.patches:\n",
    "            ax.annotate(f\"{p.get_height():.1f}%\", (p.get_x()+0.1, p.get_height()+1))\n",
    "        plt.show()\n",
    "    else:\n",
    "        print(f\"Target column '{TARGET}' not in dataframe\")\n",
    "except NameError:\n",
    "    pass\n",
    "\n"
   ]
  }
 ],
 "metadata": {
  "language_info": {
   "name": "python"
  }
 },
 "nbformat": 4,
 "nbformat_minor": 5
}
